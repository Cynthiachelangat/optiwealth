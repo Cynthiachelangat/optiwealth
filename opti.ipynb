{
 "cells": [
  {
   "cell_type": "markdown",
   "metadata": {},
   "source": [
    "# **BACKGROUND OF THE INDUSTRY:**\n",
    "\n",
    "The investment landscape has evolved significantly over the years, driven by advancements in technology, changing market dynamics, and shifting investor preferences. Traditional investment approaches often relied on static asset allocation strategies that did not adapt to individual risk profiles or market conditions. However, with the advent of data analytics, machine learning, and financial modeling techniques, there is a growing opportunity to provide personalized investment advice tailored to investors' unique needs.\n",
    "\n",
    "## **INTRODUCTION:**\n",
    "\n",
    "In today's complex financial markets, investors face the challenge of optimizing their portfolios to achieve long-term financial goals while managing risk effectively. Without personalized guidance, investors may struggle to navigate the multitude of investment options available, leading to suboptimal outcomes. This underscores the need for a sophisticated recommendation system that can analyze individual risk tolerances, investment horizons, and market conditions to provide tailored portfolio recommendations.\n",
    "\n",
    "## **PROBLEM STATEMENT:**\n",
    "\n",
    "**Prevailing Circumstance:** \n",
    "Currently, many investors lack access to personalized investment advice tailored to their risk tolerance levels and financial objectives. They often resort to generic investment strategies that may not align with their individual needs, leading to potential underperformance or excessive risk exposure.\n",
    "\n",
    "**Problem We're Trying to Solve:** \n",
    "Our project aims to address this gap by developing an intelligent recommendation system that leverages machine learning algorithms and financial modeling techniques to provide personalized portfolio recommendations. By considering an investor's risk tolerance, investment horizon, and market conditions, we aim to optimize portfolio allocations and compounding strategies to maximize returns while mitigating risk.\n",
    "\n",
    "**How the Project Aims to Solve the Problem:**\n",
    "Through data-driven analysis and advanced algorithms, our project seeks to empower investors with actionable insights that align with their unique financial goals and risk preferences. By harnessing historical stock price data, financial statements, and market indices, we aim to build a robust recommendation system capable of dynamically adjusting portfolio allocations and compounding strategies to optimize long-term wealth accumulation.\n",
    "\n",
    "## **OBJECTIVES:**\n",
    "\n",
    "**Main Objective:** \n",
    "To develop a personalized recommendation system that optimizes portfolio allocations and compounding strategies based on individual risk tolerances and investment horizons.\n",
    "\n",
    "**Specific Objectives:**\n",
    "1. Utilize machine learning algorithms to analyze historical stock price data, financial statements, and market indices to assess risk profiles and identify suitable investment opportunities.\n",
    "2. Develop dynamic portfolio optimization techniques that adjust asset allocations based on changing market conditions and individual preferences.\n",
    "3. Implement compounding strategies to maximize long-term wealth accumulation and enhance portfolio returns.\n"
   ]
  },
  {
   "cell_type": "markdown",
   "metadata": {},
   "source": [
    "## **BUSINESS UNDERSTANDING:**\n",
    "\n",
    "**Stakeholders:**\n",
    "- Investors: Individuals seeking personalized investment advice tailored to their risk tolerance levels and financial objectives.\n",
    "- Financial Advisors: Professionals looking to enhance client relationships by offering sophisticated portfolio recommendations based on data-driven insights.\n",
    "- Financial Institutions: Entities aiming to differentiate their services and attract clients through innovative investment solutions.\n",
    "\n",
    "**Metric of Success:**\n",
    "- Portfolio Return vs. Benchmark: Aim for a 3% annual outperformance against a suitable benchmark index, such as the S&P 500.\n",
    "- Risk-adjusted Returns: Target a Sharpe ratio above 0.8 to ensure superior risk-adjusted performance compared to the benchmark.\n",
    "- Portfolio Diversification: Ensure at least 90% of portfolios meet diversification standards by being well-diversified across different asset classes and industries.\n",
    "\n",
    "## **DATA UNDERSTANDING:**\n",
    "\n",
    "The project will gather historical stock price data, financial statements, and market indices from various reliable sources such as financial databases, APIs, and market research firms. Detailed analysis will be conducted to understand the underlying trends, patterns, and correlations within the data to inform the development of the recommendation system. Additionally, data preprocessing techniques will be applied to clean and prepare the dataset for machine learning analysis, ensuring accurate and reliable results.\n",
    "Data source:\n",
    "Data size:\n",
    "Relevance to the project"
   ]
  },
  {
   "cell_type": "code",
   "execution_count": 6,
   "metadata": {},
   "outputs": [],
   "source": [
    "from bs4 import BeautifulSoup\n",
    "import pickle\n",
    "import requests\n",
    "import datetime as dt\n",
    "import os\n",
    "import pandas as pd\n",
    "import numpy as np\n",
    "import pandas_datareader.data as web\n",
    "import matplotlib.pyplot as plt\n",
    "from math import sqrt\n",
    "from matplotlib import style\n",
    "style.use('ggplot')"
   ]
  },
  {
   "cell_type": "code",
   "execution_count": 8,
   "metadata": {},
   "outputs": [],
   "source": [
    "tickers = pd.read_csv('csv_files/tickers_new.csv')\n",
    "ticker_list = tickers['ticker'].values.tolist()\n",
    "company_list = tickers['company'].values.tolist()\n",
    "sector_list = tickers['sector'].values.tolist() "
   ]
  },
  {
   "cell_type": "markdown",
   "metadata": {},
   "source": [
    "#### Plug in both company name and sector for each company ticket"
   ]
  },
  {
   "cell_type": "code",
   "execution_count": 9,
   "metadata": {},
   "outputs": [],
   "source": [
    "Y = []\n",
    "for symbols,company,sector in zip(ticker_list,company_list,sector_list):\n",
    "    df = pd.read_csv(f'stock_csvs/stock_pup_{symbols}.csv')\n",
    "    df['symbol'] = symbols\n",
    "    df['company'] = company\n",
    "    df['sector']  = sector\n",
    "    cols = df.columns.tolist()\n",
    "    cols = cols[-3:] + cols[:-3]\n",
    "    df = df[cols]\n",
    "    Y.append(df)\n",
    "fund_stocks = pd.concat(Y, sort = False)"
   ]
  },
  {
   "cell_type": "code",
   "execution_count": 10,
   "metadata": {},
   "outputs": [
    {
     "data": {
      "text/plain": [
       "(62850, 44)"
      ]
     },
     "execution_count": 10,
     "metadata": {},
     "output_type": "execute_result"
    }
   ],
   "source": [
    "fund_stocks.shape"
   ]
  },
  {
   "cell_type": "markdown",
   "metadata": {},
   "source": [
    "#### Quarter End to Date Time"
   ]
  },
  {
   "cell_type": "code",
   "execution_count": 11,
   "metadata": {},
   "outputs": [],
   "source": [
    "# Quarter End to Date time\n",
    "fund_stocks['Quarter end'] = pd.to_datetime(fund_stocks['Quarter end'])\n",
    "fund_stocks.set_index(\"Quarter end\", inplace=True)"
   ]
  },
  {
   "cell_type": "markdown",
   "metadata": {},
   "source": [
    "#### Change date from 2000 to current year"
   ]
  },
  {
   "cell_type": "code",
   "execution_count": 12,
   "metadata": {},
   "outputs": [],
   "source": [
    "#2000 to current year\n",
    "five_yr_fstock = fund_stocks['2000':]"
   ]
  },
  {
   "cell_type": "code",
   "execution_count": 13,
   "metadata": {},
   "outputs": [],
   "source": [
    "#convert strings into numeric integers\n",
    "five_yr_fstock = five_yr_fstock.apply(pd.to_numeric, errors='ignore')"
   ]
  },
  {
   "cell_type": "markdown",
   "metadata": {},
   "source": [
    "#### create unmatched companies in new dataframe"
   ]
  },
  {
   "cell_type": "code",
   "execution_count": 14,
   "metadata": {},
   "outputs": [],
   "source": [
    "### assign variable to unmatch\n",
    "nomatch_companies = five_yr_fstock[five_yr_fstock['company'] == 'nomatch']"
   ]
  },
  {
   "cell_type": "markdown",
   "metadata": {},
   "source": [
    "#### Create a new data frame with nomatched companies"
   ]
  },
  {
   "cell_type": "code",
   "execution_count": 15,
   "metadata": {},
   "outputs": [],
   "source": [
    "## assign variable to matched company and sector\n",
    "company_fund = five_yr_fstock[five_yr_fstock['company'] != 'nomatch']"
   ]
  },
  {
   "cell_type": "code",
   "execution_count": 16,
   "metadata": {},
   "outputs": [
    {
     "data": {
      "text/plain": [
       "company\n",
       "1    189\n",
       "Name: count, dtype: int64"
      ]
     },
     "execution_count": 16,
     "metadata": {},
     "output_type": "execute_result"
    }
   ],
   "source": [
    "# 135 companies were not matched to finviz company\n",
    "nomatch_companies.groupby('symbol')['company'].nunique().value_counts()"
   ]
  },
  {
   "cell_type": "code",
   "execution_count": 17,
   "metadata": {},
   "outputs": [
    {
     "data": {
      "text/plain": [
       "symbol\n",
       "1    566\n",
       "Name: count, dtype: int64"
      ]
     },
     "execution_count": 17,
     "metadata": {},
     "output_type": "execute_result"
    }
   ],
   "source": [
    "# 566 companies were matched to finviz company\n",
    "company_fund.groupby('company')['symbol'].nunique().value_counts()"
   ]
  },
  {
   "cell_type": "markdown",
   "metadata": {},
   "source": [
    "#### replace all 0's and None to nan's"
   ]
  },
  {
   "cell_type": "code",
   "execution_count": 18,
   "metadata": {},
   "outputs": [],
   "source": [
    "company_fund = company_fund.replace(to_replace='0', value= np.nan)\n",
    "company_fund = company_fund.replace(to_replace='None', value= np.nan )\n",
    "company_fund = company_fund.apply(pd.to_numeric, errors='ignore')\n",
    "company_fund['P/E ratio'].fillna(0, inplace=True)\n",
    "company_fund.fillna(0, inplace = True)"
   ]
  },
  {
   "cell_type": "markdown",
   "metadata": {},
   "source": [
    "#### Assigning reported_pe for approiate companies"
   ]
  },
  {
   "cell_type": "code",
   "execution_count": 19,
   "metadata": {},
   "outputs": [
    {
     "data": {
      "text/plain": [
       "reported_pe\n",
       "1    35178\n",
       "0     5388\n",
       "Name: count, dtype: int64"
      ]
     },
     "execution_count": 19,
     "metadata": {},
     "output_type": "execute_result"
    }
   ],
   "source": [
    "company_fund['reported_pe'] = company_fund['P/E ratio'].apply(lambda x: 1 if x != 0 else 0)\n",
    "company_fund['reported_pe'].value_counts()"
   ]
  },
  {
   "cell_type": "markdown",
   "metadata": {},
   "source": [
    "#### Assigning reported_earnings for appropiate companies"
   ]
  },
  {
   "cell_type": "code",
   "execution_count": 20,
   "metadata": {},
   "outputs": [
    {
     "data": {
      "text/plain": [
       "reported_earnings\n",
       "1    40414\n",
       "0      152\n",
       "Name: count, dtype: int64"
      ]
     },
     "execution_count": 20,
     "metadata": {},
     "output_type": "execute_result"
    }
   ],
   "source": [
    "company_fund['reported_earnings'] = company_fund['Earnings'].apply(lambda x: 1 if x != 0 else 0)\n",
    "company_fund['reported_earnings'].value_counts()"
   ]
  },
  {
   "cell_type": "code",
   "execution_count": 21,
   "metadata": {},
   "outputs": [
    {
     "data": {
      "text/plain": [
       "growth\n",
       "0    24024\n",
       "1    16542\n",
       "Name: count, dtype: int64"
      ]
     },
     "execution_count": 21,
     "metadata": {},
     "output_type": "execute_result"
    }
   ],
   "source": [
    "company_fund['growth'] = company_fund['P/E ratio'].apply(lambda x: 1 if x == 0 or x >= 25 else 0)\n",
    "company_fund['growth'].value_counts()"
   ]
  },
  {
   "cell_type": "markdown",
   "metadata": {},
   "source": [
    "####  Categorize Sectors"
   ]
  },
  {
   "cell_type": "code",
   "execution_count": 22,
   "metadata": {},
   "outputs": [],
   "source": [
    "company_fund = company_fund.reset_index()\n",
    "sectors = pd.get_dummies(company_fund['sector'], prefix= 'sector')\n",
    "companies = company_fund.merge(sectors, left_index=True , right_index= True)\n",
    "\n",
    "companies.set_index(\"Quarter end\", inplace=True)"
   ]
  },
  {
   "cell_type": "code",
   "execution_count": null,
   "metadata": {},
   "outputs": [],
   "source": [
    "companies.to_csv('csv/companies.csv', index = True)"
   ]
  },
  {
   "cell_type": "markdown",
   "metadata": {},
   "source": [
    "### Check Company Health And Growth Fundamentals"
   ]
  },
  {
   "cell_type": "code",
   "execution_count": 23,
   "metadata": {},
   "outputs": [],
   "source": [
    "companies['health_cr'] = companies['Current ratio'].apply(lambda x: 1 if x >= 1.5 and x <= 3.0 else 0)\n",
    "companies['health_dtbr'] = companies['Long-term debt to equity ratio'].apply(lambda x: 1 if x >= .05 else 0)\n",
    "companies['growth_roa'] = companies['ROA'].apply(lambda x: 1 if x >= .05 else 0)\n",
    "companies['growth_roe'] = companies['ROE'].apply(lambda x: 1 if x >= .1 else 0)\n",
    "companies['health_dyp'] = companies['Dividend payout ratio'].apply(lambda x: 1 if x >= .55 else 0)"
   ]
  },
  {
   "cell_type": "markdown",
   "metadata": {},
   "source": [
    "###  Prep for Classsifcation"
   ]
  },
  {
   "cell_type": "code",
   "execution_count": 24,
   "metadata": {},
   "outputs": [],
   "source": [
    "classification = companies.drop(columns=['company', 'sector'])\n",
    "classification_feat = classification.drop(columns =['P/E ratio', 'growth'])\n",
    "classification_pred = pd.DataFrame(classification['growth'])\n",
    "classification_pred = classification_pred.reset_index()\n",
    "classification_pred = classification_pred.drop(columns= 'Quarter end')\n",
    "sec_sym_com = pd.DataFrame(companies[['symbol', 'company', 'sector']])"
   ]
  },
  {
   "cell_type": "code",
   "execution_count": 26,
   "metadata": {},
   "outputs": [],
   "source": [
    "classification_feat.to_csv('Classification_Models/classification_feat.csv')\n",
    "classification_pred.to_csv('Classification_Models/classification_pred.csv')\n",
    "sec_sym_com.to_csv('Classification_Models/sec_sym_com.csv')"
   ]
  },
  {
   "cell_type": "markdown",
   "metadata": {},
   "source": [
    "##  Recommender System"
   ]
  },
  {
   "cell_type": "code",
   "execution_count": 27,
   "metadata": {},
   "outputs": [],
   "source": [
    "companies['symbol_ID'] = companies.groupby('symbol').grouper.group_info[0]\n",
    "companies_rec = companies\n",
    "companies_rec.to_csv('recommendation_system/companies_rec.csv')\n",
    "stz = companies[companies['symbol'] == 'STZ']"
   ]
  }
 ],
 "metadata": {
  "kernelspec": {
   "display_name": "Python (learn-env)",
   "language": "python",
   "name": "learn-env"
  },
  "language_info": {
   "codemirror_mode": {
    "name": "ipython",
    "version": 3
   },
   "file_extension": ".py",
   "mimetype": "text/x-python",
   "name": "python",
   "nbconvert_exporter": "python",
   "pygments_lexer": "ipython3",
   "version": "3.10.13"
  }
 },
 "nbformat": 4,
 "nbformat_minor": 2
}
